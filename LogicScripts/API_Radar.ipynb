{
 "cells": [
  {
   "cell_type": "code",
   "execution_count": 1,
   "metadata": {},
   "outputs": [],
   "source": [
    "import requests\n",
    "import json\n",
    "import pandas as pd\n",
    "import numpy as np\n",
    "from config_api import radar_server_key, radar_places_url\n",
    "\n"
   ]
  },
  {
   "cell_type": "code",
   "execution_count": 3,
   "metadata": {},
   "outputs": [],
   "source": [
    "url = radar_places_url\n",
    "headers = {\"Authorization\": radar_server_key}\n",
    "\n",
    "near_parameters = [\"38.19845939421437, -85.53145908127011\", \"38.31549108345669, -85.5237825342442\", \"38.19798112364967, -85.68611154738217\", \"38.22324061630486, -85.82019399805515\", \"38.132588077102156, -85.81094181550179\", \"38.08832678463105, -85.66674311426304\", \"38.095486066505565, -85.49370104349225\"]\n",
    "category_parameters = [\"apparel\",\n",
    "                       \"arts-crafts-supply-store\",\n",
    "                       \"beauty-store\",\n",
    "                       \"big-box-retailer\",\n",
    "                       \"book-store\",\n",
    "                       \"boutique-store\",\n",
    "                       \"department-store\",\n",
    "                       \"discount-store\",\n",
    "                       \"dvd-video-store\",\n",
    "                       \"ecigarette-store\",\n",
    "                       \"electronics-store\",\n",
    "                       \"fabric-store\",\n",
    "                       \"gift-shop\",\n",
    "                       \"home-garden-store\",\n",
    "                       \"lottery-retailer\",\n",
    "                       \"mobile-phone-shop\",\n",
    "                       \"musical-instrument-store\",\n",
    "                       \"newsagent-newsstand\",\n",
    "                       \"office-equipment-store\",\n",
    "                       \"pawn-shop\",\n",
    "                       \"pet-store\",\n",
    "                       \"shopping-mall\",\n",
    "                       \"sporting-goods-store\",\n",
    "                       \"sports-outdoors\",\n",
    "                       \"thrift-or-consignment-store\",\n",
    "                       \"tobacco-store\",\n",
    "                       \" toy-store\",\n",
    "                       \"video-game-store\"\n",
    "                       ]\n",
    "\n",
    "all_stores = []\n",
    "\n"
   ]
  },
  {
   "cell_type": "code",
   "execution_count": 5,
   "metadata": {},
   "outputs": [],
   "source": [
    "\"\"\"\n",
    "#test api call for one location and one category\n",
    "for near in near_parameters:\n",
    "    params = {\n",
    "        \"near\": near,\n",
    "        \"categories\": \"mens-clothing-store\",\n",
    "        \"radius\": 10000,\n",
    "        \"limit\": 50\n",
    "    }\n",
    "    response = requests.get(url, headers=headers, params=params)\n",
    "\n",
    "    if response.status_code == 200:\n",
    "            data = response.json()\n",
    "            all_stores.append(data)\n",
    "    else:\n",
    "        print(f\"Error: {response.status_code}, Failed to retrieve data for test in {near}\")\n",
    "        \n",
    "all_stores_JSON = json.dumps(all_stores, indent=4)\n",
    "\n",
    "with open(\"all_stores.json\", \"w\") as outfile:\n",
    "    outfile.write(all_stores_JSON)\n",
    "\"\"\"\n"
   ]
  },
  {
   "cell_type": "code",
   "execution_count": 6,
   "metadata": {},
   "outputs": [],
   "source": [
    "for near in near_parameters:\n",
    "    for category in category_parameters:\n",
    "        params = {\n",
    "            \"near\": near,\n",
    "            \"categories\": category,\n",
    "            \"radius\": 10000,\n",
    "            \"limit\": 100\n",
    "        }\n",
    "\n",
    "        response = requests.get(url, headers=headers, params=params)\n",
    "\n",
    "        if response.status_code == 200:\n",
    "            data = response.json()\n",
    "            all_stores.append(data)\n",
    "        else:\n",
    "            print(f\"Error: {response.status_code}, Failed to retrieve data for {category} in {near}\")\n",
    "\n",
    "all_stores_JSON = json.dumps(all_stores, indent=4)\n",
    "\n",
    "with open(\"all_stores.json\", \"w\") as outfile:\n",
    "    outfile.write(all_stores_JSON)"
   ]
  }
 ],
 "metadata": {
  "kernelspec": {
   "display_name": "base",
   "language": "python",
   "name": "python3"
  },
  "language_info": {
   "codemirror_mode": {
    "name": "ipython",
    "version": 3
   },
   "file_extension": ".py",
   "mimetype": "text/x-python",
   "name": "python",
   "nbconvert_exporter": "python",
   "pygments_lexer": "ipython3",
   "version": "3.10.9"
  },
  "orig_nbformat": 4
 },
 "nbformat": 4,
 "nbformat_minor": 2
}
